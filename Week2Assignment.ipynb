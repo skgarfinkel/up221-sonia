{
 "cells": [
  {
   "cell_type": "markdown",
   "id": "9100c783-63b0-4ab9-b9cf-b1863b80782d",
   "metadata": {},
   "source": [
    "# Week 2 Assignment "
   ]
  },
  {
   "cell_type": "code",
   "execution_count": 2,
   "id": "e613e2ec-d573-40b5-9083-04098dc1014f",
   "metadata": {},
   "outputs": [],
   "source": [
    "## This is my Week 02 Exploratory Python Data Assignment\n",
    "## Title: Pedestrian-Automotive Collisions at 84th and Hoover St in Los Angeles\n",
    "## Due January 21st at 11:59pm\n",
    "# This dataset shows the pedestrian-automotive collisions at 84th and Hoover St in Los Angeles\n",
    "# over the time span of 2013-2022\n",
    "# This dataset and project fit fits into my interest of pedestrian saftey. I am making this quarter my quarter\n",
    "# related to bike and pedestrian safety.\n",
    "\n",
    "# Sonia Garfinkel"
   ]
  },
  {
   "cell_type": "code",
   "execution_count": 4,
   "id": "3326ba39-318c-41c8-91c8-44417e6ea53e",
   "metadata": {},
   "outputs": [],
   "source": [
    "# I'm going to import pandas and geopands python code\n",
    "import pandas as pd \n",
    "import geopandas as gpd"
   ]
  },
  {
   "cell_type": "code",
   "execution_count": 13,
   "id": "9b24983a-18ec-492a-a5f3-a2dfbdf28420",
   "metadata": {},
   "outputs": [],
   "source": [
    "# I have uploaded my dataset and am now going to try to read it in here\n",
    "# pedcol = pedestrian collisions (which should really be called pedestrian-automotive collisions, its not like\n",
    "# the pedestrians are running into eachother)\n",
    "pedcol = gpd.read_file('PedCol.csv')"
   ]
  },
  {
   "cell_type": "code",
   "execution_count": 9,
   "id": "1bde2f5d-2857-481b-93db-0ce1bf68dabd",
   "metadata": {},
   "outputs": [
    {
     "data": {
      "text/plain": [
       "geopandas.geodataframe.GeoDataFrame"
      ]
     },
     "execution_count": 9,
     "metadata": {},
     "output_type": "execute_result"
    }
   ],
   "source": [
    "# What's the datatype?\n",
    "type(pedcol)\n",
    "# it is a dataframe, which is good"
   ]
  },
  {
   "cell_type": "code",
   "execution_count": 10,
   "id": "fbba59c1-6675-4ac4-99ff-f71112e7eaee",
   "metadata": {},
   "outputs": [
    {
     "data": {
      "text/html": [
       "<div>\n",
       "<style scoped>\n",
       "    .dataframe tbody tr th:only-of-type {\n",
       "        vertical-align: middle;\n",
       "    }\n",
       "\n",
       "    .dataframe tbody tr th {\n",
       "        vertical-align: top;\n",
       "    }\n",
       "\n",
       "    .dataframe thead th {\n",
       "        text-align: right;\n",
       "    }\n",
       "</style>\n",
       "<table border=\"1\" class=\"dataframe\">\n",
       "  <thead>\n",
       "    <tr style=\"text-align: right;\">\n",
       "      <th></th>\n",
       "      <th>DR Number</th>\n",
       "      <th>Date Reported</th>\n",
       "      <th>Date Occurred</th>\n",
       "      <th>Time Occurred</th>\n",
       "      <th>Area ID</th>\n",
       "      <th>Area Name</th>\n",
       "      <th>Reporting District</th>\n",
       "      <th>Crime Code</th>\n",
       "      <th>Crime Code Description</th>\n",
       "      <th>MO Codes</th>\n",
       "      <th>Victim Age</th>\n",
       "      <th>Victim Sex</th>\n",
       "      <th>Victim Descent</th>\n",
       "      <th>Premise Code</th>\n",
       "      <th>Premise Description</th>\n",
       "      <th>Address</th>\n",
       "      <th>Cross Street</th>\n",
       "      <th>Location</th>\n",
       "      <th>geometry</th>\n",
       "    </tr>\n",
       "  </thead>\n",
       "  <tbody>\n",
       "    <tr>\n",
       "      <th>0</th>\n",
       "      <td>201208708</td>\n",
       "      <td>3/8/20</td>\n",
       "      <td>3/8/20</td>\n",
       "      <td>1720</td>\n",
       "      <td>12</td>\n",
       "      <td>77th Street</td>\n",
       "      <td>1267</td>\n",
       "      <td>997</td>\n",
       "      <td>TRAFFIC COLLISION</td>\n",
       "      <td>4025 3037 3003 3025 3029 3101</td>\n",
       "      <td></td>\n",
       "      <td>M</td>\n",
       "      <td>B</td>\n",
       "      <td>101</td>\n",
       "      <td>STREET</td>\n",
       "      <td>84TH                         ST</td>\n",
       "      <td>HOOVER                       ST</td>\n",
       "      <td>(33.9621, -118.2871)</td>\n",
       "      <td>None</td>\n",
       "    </tr>\n",
       "    <tr>\n",
       "      <th>1</th>\n",
       "      <td>221207052</td>\n",
       "      <td>2/27/22</td>\n",
       "      <td>2/26/22</td>\n",
       "      <td>1910</td>\n",
       "      <td>12</td>\n",
       "      <td>77th Street</td>\n",
       "      <td>1267</td>\n",
       "      <td>997</td>\n",
       "      <td>TRAFFIC COLLISION</td>\n",
       "      <td>3601 3003 3027 4025 3029 3036</td>\n",
       "      <td>42</td>\n",
       "      <td>M</td>\n",
       "      <td>H</td>\n",
       "      <td>101</td>\n",
       "      <td>STREET</td>\n",
       "      <td>HOOVER</td>\n",
       "      <td>84TH</td>\n",
       "      <td>(33.9624, -118.2871)</td>\n",
       "      <td>None</td>\n",
       "    </tr>\n",
       "    <tr>\n",
       "      <th>2</th>\n",
       "      <td>131227351</td>\n",
       "      <td>12/22/13</td>\n",
       "      <td>12/22/13</td>\n",
       "      <td>1905</td>\n",
       "      <td>12</td>\n",
       "      <td>77th Street</td>\n",
       "      <td>1267</td>\n",
       "      <td>997</td>\n",
       "      <td>TRAFFIC COLLISION</td>\n",
       "      <td>3003 3024 3029 3101</td>\n",
       "      <td>46</td>\n",
       "      <td>F</td>\n",
       "      <td>B</td>\n",
       "      <td>101</td>\n",
       "      <td>STREET</td>\n",
       "      <td>84TH                         ST</td>\n",
       "      <td>HOOVER                       ST</td>\n",
       "      <td>(33.9621, -118.2871)</td>\n",
       "      <td>None</td>\n",
       "    </tr>\n",
       "    <tr>\n",
       "      <th>3</th>\n",
       "      <td>171227099</td>\n",
       "      <td>11/14/17</td>\n",
       "      <td>11/13/17</td>\n",
       "      <td>1930</td>\n",
       "      <td>12</td>\n",
       "      <td>77th Street</td>\n",
       "      <td>1267</td>\n",
       "      <td>997</td>\n",
       "      <td>TRAFFIC COLLISION</td>\n",
       "      <td>3025 4025 3003 3029 3101</td>\n",
       "      <td>36</td>\n",
       "      <td>M</td>\n",
       "      <td>B</td>\n",
       "      <td>101</td>\n",
       "      <td>STREET</td>\n",
       "      <td>HOOVER                       ST</td>\n",
       "      <td>84TH                         ST</td>\n",
       "      <td>(33.9625, -118.2871)</td>\n",
       "      <td>None</td>\n",
       "    </tr>\n",
       "    <tr>\n",
       "      <th>4</th>\n",
       "      <td>171220187</td>\n",
       "      <td>8/11/17</td>\n",
       "      <td>8/11/17</td>\n",
       "      <td>650</td>\n",
       "      <td>12</td>\n",
       "      <td>77th Street</td>\n",
       "      <td>1267</td>\n",
       "      <td>997</td>\n",
       "      <td>TRAFFIC COLLISION</td>\n",
       "      <td>4025 3037 3004 3003 3026 3602 3101</td>\n",
       "      <td>54</td>\n",
       "      <td>M</td>\n",
       "      <td>B</td>\n",
       "      <td>101</td>\n",
       "      <td>STREET</td>\n",
       "      <td>84TH                         ST</td>\n",
       "      <td>HOOVER                       ST</td>\n",
       "      <td>(33.9625, -118.2871)</td>\n",
       "      <td>None</td>\n",
       "    </tr>\n",
       "  </tbody>\n",
       "</table>\n",
       "</div>"
      ],
      "text/plain": [
       "   DR Number Date Reported Date Occurred Time Occurred Area ID    Area Name  \\\n",
       "0  201208708        3/8/20        3/8/20          1720      12  77th Street   \n",
       "1  221207052       2/27/22       2/26/22          1910      12  77th Street   \n",
       "2  131227351      12/22/13      12/22/13          1905      12  77th Street   \n",
       "3  171227099      11/14/17      11/13/17          1930      12  77th Street   \n",
       "4  171220187       8/11/17       8/11/17           650      12  77th Street   \n",
       "\n",
       "  Reporting District Crime Code Crime Code Description  \\\n",
       "0               1267        997      TRAFFIC COLLISION   \n",
       "1               1267        997      TRAFFIC COLLISION   \n",
       "2               1267        997      TRAFFIC COLLISION   \n",
       "3               1267        997      TRAFFIC COLLISION   \n",
       "4               1267        997      TRAFFIC COLLISION   \n",
       "\n",
       "                             MO Codes Victim Age Victim Sex Victim Descent  \\\n",
       "0       4025 3037 3003 3025 3029 3101                     M              B   \n",
       "1       3601 3003 3027 4025 3029 3036         42          M              H   \n",
       "2                 3003 3024 3029 3101         46          F              B   \n",
       "3            3025 4025 3003 3029 3101         36          M              B   \n",
       "4  4025 3037 3004 3003 3026 3602 3101         54          M              B   \n",
       "\n",
       "  Premise Code Premise Description                          Address  \\\n",
       "0          101              STREET  84TH                         ST   \n",
       "1          101              STREET                           HOOVER   \n",
       "2          101              STREET  84TH                         ST   \n",
       "3          101              STREET  HOOVER                       ST   \n",
       "4          101              STREET  84TH                         ST   \n",
       "\n",
       "                      Cross Street              Location geometry  \n",
       "0  HOOVER                       ST  (33.9621, -118.2871)     None  \n",
       "1                             84TH  (33.9624, -118.2871)     None  \n",
       "2  HOOVER                       ST  (33.9621, -118.2871)     None  \n",
       "3  84TH                         ST  (33.9625, -118.2871)     None  \n",
       "4  HOOVER                       ST  (33.9625, -118.2871)     None  "
      ]
     },
     "execution_count": 10,
     "metadata": {},
     "output_type": "execute_result"
    }
   ],
   "source": [
    "# What does the data look like?\n",
    "#.head() shows the first five cells of the dataset \n",
    "pedcol.head()"
   ]
  },
  {
   "cell_type": "code",
   "execution_count": 11,
   "id": "2c7c921b-485c-4dd8-9744-18d5eb3ce9e1",
   "metadata": {},
   "outputs": [
    {
     "data": {
      "text/html": [
       "<div>\n",
       "<style scoped>\n",
       "    .dataframe tbody tr th:only-of-type {\n",
       "        vertical-align: middle;\n",
       "    }\n",
       "\n",
       "    .dataframe tbody tr th {\n",
       "        vertical-align: top;\n",
       "    }\n",
       "\n",
       "    .dataframe thead th {\n",
       "        text-align: right;\n",
       "    }\n",
       "</style>\n",
       "<table border=\"1\" class=\"dataframe\">\n",
       "  <thead>\n",
       "    <tr style=\"text-align: right;\">\n",
       "      <th></th>\n",
       "      <th>DR Number</th>\n",
       "      <th>Date Reported</th>\n",
       "      <th>Date Occurred</th>\n",
       "      <th>Time Occurred</th>\n",
       "      <th>Area ID</th>\n",
       "      <th>Area Name</th>\n",
       "      <th>Reporting District</th>\n",
       "      <th>Crime Code</th>\n",
       "      <th>Crime Code Description</th>\n",
       "      <th>MO Codes</th>\n",
       "      <th>Victim Age</th>\n",
       "      <th>Victim Sex</th>\n",
       "      <th>Victim Descent</th>\n",
       "      <th>Premise Code</th>\n",
       "      <th>Premise Description</th>\n",
       "      <th>Address</th>\n",
       "      <th>Cross Street</th>\n",
       "      <th>Location</th>\n",
       "      <th>geometry</th>\n",
       "    </tr>\n",
       "  </thead>\n",
       "  <tbody>\n",
       "    <tr>\n",
       "      <th>0</th>\n",
       "      <td>201208708</td>\n",
       "      <td>3/8/20</td>\n",
       "      <td>3/8/20</td>\n",
       "      <td>1720</td>\n",
       "      <td>12</td>\n",
       "      <td>77th Street</td>\n",
       "      <td>1267</td>\n",
       "      <td>997</td>\n",
       "      <td>TRAFFIC COLLISION</td>\n",
       "      <td>4025 3037 3003 3025 3029 3101</td>\n",
       "      <td></td>\n",
       "      <td>M</td>\n",
       "      <td>B</td>\n",
       "      <td>101</td>\n",
       "      <td>STREET</td>\n",
       "      <td>84TH                         ST</td>\n",
       "      <td>HOOVER                       ST</td>\n",
       "      <td>(33.9621, -118.2871)</td>\n",
       "      <td>None</td>\n",
       "    </tr>\n",
       "    <tr>\n",
       "      <th>4</th>\n",
       "      <td>171220187</td>\n",
       "      <td>8/11/17</td>\n",
       "      <td>8/11/17</td>\n",
       "      <td>650</td>\n",
       "      <td>12</td>\n",
       "      <td>77th Street</td>\n",
       "      <td>1267</td>\n",
       "      <td>997</td>\n",
       "      <td>TRAFFIC COLLISION</td>\n",
       "      <td>4025 3037 3004 3003 3026 3602 3101</td>\n",
       "      <td>54</td>\n",
       "      <td>M</td>\n",
       "      <td>B</td>\n",
       "      <td>101</td>\n",
       "      <td>STREET</td>\n",
       "      <td>84TH                         ST</td>\n",
       "      <td>HOOVER                       ST</td>\n",
       "      <td>(33.9625, -118.2871)</td>\n",
       "      <td>None</td>\n",
       "    </tr>\n",
       "  </tbody>\n",
       "</table>\n",
       "</div>"
      ],
      "text/plain": [
       "   DR Number Date Reported Date Occurred Time Occurred Area ID    Area Name  \\\n",
       "0  201208708        3/8/20        3/8/20          1720      12  77th Street   \n",
       "4  171220187       8/11/17       8/11/17           650      12  77th Street   \n",
       "\n",
       "  Reporting District Crime Code Crime Code Description  \\\n",
       "0               1267        997      TRAFFIC COLLISION   \n",
       "4               1267        997      TRAFFIC COLLISION   \n",
       "\n",
       "                             MO Codes Victim Age Victim Sex Victim Descent  \\\n",
       "0       4025 3037 3003 3025 3029 3101                     M              B   \n",
       "4  4025 3037 3004 3003 3026 3602 3101         54          M              B   \n",
       "\n",
       "  Premise Code Premise Description                          Address  \\\n",
       "0          101              STREET  84TH                         ST   \n",
       "4          101              STREET  84TH                         ST   \n",
       "\n",
       "                      Cross Street              Location geometry  \n",
       "0  HOOVER                       ST  (33.9621, -118.2871)     None  \n",
       "4  HOOVER                       ST  (33.9625, -118.2871)     None  "
      ]
     },
     "execution_count": 11,
     "metadata": {},
     "output_type": "execute_result"
    }
   ],
   "source": [
    "# .sample(2) pulls a random sample of lines from the dataset, and the (2) means I want to pull\n",
    "# 2 samples\n",
    "pedcol.sample(2)"
   ]
  },
  {
   "cell_type": "code",
   "execution_count": 12,
   "id": "4563440b-ba25-498e-bf5c-d82f569beaa8",
   "metadata": {},
   "outputs": [
    {
     "data": {
      "text/plain": [
       "(7, 19)"
      ]
     },
     "execution_count": 12,
     "metadata": {},
     "output_type": "execute_result"
    }
   ],
   "source": [
    "# .shape shows us how many rows and columns the dataset has. Here we can see\n",
    "# there are 7 rows and 19 columns\n",
    "# This dataset has 7 observations, which is a pretty small dataset.\n",
    "# Hopefully moving forward I can find data on this type of pedestrain-automotive collision with more observations\n",
    "# (Of course I dont want MORE of them, but its useful for the data...)\n",
    "pedcol.shape"
   ]
  },
  {
   "cell_type": "code",
   "execution_count": 14,
   "id": "4322d682-5fbf-4904-9c16-6b920804b174",
   "metadata": {},
   "outputs": [
    {
     "data": {
      "text/plain": [
       "<bound method DataFrame.info of    DR Number Date Reported Date Occurred Time Occurred Area ID    Area Name  \\\n",
       "0  201208708        3/8/20        3/8/20          1720      12  77th Street   \n",
       "1  221207052       2/27/22       2/26/22          1910      12  77th Street   \n",
       "2  131227351      12/22/13      12/22/13          1905      12  77th Street   \n",
       "3  171227099      11/14/17      11/13/17          1930      12  77th Street   \n",
       "4  171220187       8/11/17       8/11/17           650      12  77th Street   \n",
       "5  181217531        7/4/18        7/3/18          2105      12  77th Street   \n",
       "6  191205500       1/23/19       1/23/19          1420      12  77th Street   \n",
       "\n",
       "  Reporting District Crime Code Crime Code Description  \\\n",
       "0               1267        997      TRAFFIC COLLISION   \n",
       "1               1267        997      TRAFFIC COLLISION   \n",
       "2               1267        997      TRAFFIC COLLISION   \n",
       "3               1267        997      TRAFFIC COLLISION   \n",
       "4               1267        997      TRAFFIC COLLISION   \n",
       "5               1267        997      TRAFFIC COLLISION   \n",
       "6               1267        997      TRAFFIC COLLISION   \n",
       "\n",
       "                             MO Codes Victim Age Victim Sex Victim Descent  \\\n",
       "0       4025 3037 3003 3025 3029 3101                     M              B   \n",
       "1       3601 3003 3027 4025 3029 3036         42          M              H   \n",
       "2                 3003 3024 3029 3101         46          F              B   \n",
       "3            3025 4025 3003 3029 3101         36          M              B   \n",
       "4  4025 3037 3004 3003 3026 3602 3101         54          M              B   \n",
       "5  4025 3036 3003 3027 3029 3101 3601         56          M              H   \n",
       "6            4025 3037 3003 3026 3101                     M              B   \n",
       "\n",
       "  Premise Code Premise Description                          Address  \\\n",
       "0          101              STREET  84TH                         ST   \n",
       "1          101              STREET                           HOOVER   \n",
       "2          101              STREET  84TH                         ST   \n",
       "3          101              STREET  HOOVER                       ST   \n",
       "4          101              STREET  84TH                         ST   \n",
       "5          101              STREET  HOOVER                       ST   \n",
       "6          101              STREET  HOOVER                       ST   \n",
       "\n",
       "                      Cross Street              Location geometry  \n",
       "0  HOOVER                       ST  (33.9621, -118.2871)     None  \n",
       "1                             84TH  (33.9624, -118.2871)     None  \n",
       "2  HOOVER                       ST  (33.9621, -118.2871)     None  \n",
       "3  84TH                         ST  (33.9625, -118.2871)     None  \n",
       "4  HOOVER                       ST  (33.9625, -118.2871)     None  \n",
       "5  84TH                         ST  (33.9625, -118.2871)     None  \n",
       "6  84TH                         ST  (33.9625, -118.2871)     None  >"
      ]
     },
     "execution_count": 14,
     "metadata": {},
     "output_type": "execute_result"
    }
   ],
   "source": [
    "# .info pulls info about the dataset\n",
    "pedcol.info"
   ]
  },
  {
   "cell_type": "code",
   "execution_count": 15,
   "id": "3eb53f24-cb71-4ab4-9412-c7131c1be712",
   "metadata": {},
   "outputs": [
    {
     "data": {
      "text/plain": [
       "DR Number                   object\n",
       "Date Reported               object\n",
       "Date Occurred               object\n",
       "Time Occurred               object\n",
       "Area ID                     object\n",
       "Area Name                   object\n",
       "Reporting District          object\n",
       "Crime Code                  object\n",
       "Crime Code Description      object\n",
       "MO Codes                    object\n",
       "Victim Age                  object\n",
       "Victim Sex                  object\n",
       "Victim Descent              object\n",
       "Premise Code                object\n",
       "Premise Description         object\n",
       "Address                     object\n",
       "Cross Street                object\n",
       "Location                    object\n",
       "geometry                  geometry\n",
       "dtype: object"
      ]
     },
     "execution_count": 15,
     "metadata": {},
     "output_type": "execute_result"
    }
   ],
   "source": [
    "# .dtypes shows the data type for each column. An \"object\" is a string, which means that they are not numbers\n",
    "pedcol.dtypes"
   ]
  },
  {
   "cell_type": "code",
   "execution_count": 16,
   "id": "56c06739-71a4-475b-bfa0-6959f4205d5e",
   "metadata": {},
   "outputs": [
    {
     "data": {
      "text/plain": [
       "['DR Number',\n",
       " 'Date Reported',\n",
       " 'Date Occurred',\n",
       " 'Time Occurred',\n",
       " 'Area ID',\n",
       " 'Area Name',\n",
       " 'Reporting District',\n",
       " 'Crime Code',\n",
       " 'Crime Code Description',\n",
       " 'MO Codes',\n",
       " 'Victim Age',\n",
       " 'Victim Sex',\n",
       " 'Victim Descent',\n",
       " 'Premise Code',\n",
       " 'Premise Description',\n",
       " 'Address',\n",
       " 'Cross Street',\n",
       " 'Location',\n",
       " 'geometry']"
      ]
     },
     "execution_count": 16,
     "metadata": {},
     "output_type": "execute_result"
    }
   ],
   "source": [
    "# Let's see the columns.\n",
    "pedcol.columns.to_list()"
   ]
  },
  {
   "cell_type": "code",
   "execution_count": 17,
   "id": "3f57120e-e45d-46fa-81b8-cec42f2580a3",
   "metadata": {},
   "outputs": [
    {
     "data": {
      "text/html": [
       "<div>\n",
       "<style scoped>\n",
       "    .dataframe tbody tr th:only-of-type {\n",
       "        vertical-align: middle;\n",
       "    }\n",
       "\n",
       "    .dataframe tbody tr th {\n",
       "        vertical-align: top;\n",
       "    }\n",
       "\n",
       "    .dataframe thead th {\n",
       "        text-align: right;\n",
       "    }\n",
       "</style>\n",
       "<table border=\"1\" class=\"dataframe\">\n",
       "  <thead>\n",
       "    <tr style=\"text-align: right;\">\n",
       "      <th></th>\n",
       "      <th>Date Occurred</th>\n",
       "      <th>Time Occurred</th>\n",
       "      <th>Victim Age</th>\n",
       "      <th>Victim Sex</th>\n",
       "      <th>Victim Descent</th>\n",
       "    </tr>\n",
       "  </thead>\n",
       "  <tbody>\n",
       "    <tr>\n",
       "      <th>0</th>\n",
       "      <td>3/8/20</td>\n",
       "      <td>1720</td>\n",
       "      <td></td>\n",
       "      <td>M</td>\n",
       "      <td>B</td>\n",
       "    </tr>\n",
       "    <tr>\n",
       "      <th>1</th>\n",
       "      <td>2/26/22</td>\n",
       "      <td>1910</td>\n",
       "      <td>42</td>\n",
       "      <td>M</td>\n",
       "      <td>H</td>\n",
       "    </tr>\n",
       "    <tr>\n",
       "      <th>2</th>\n",
       "      <td>12/22/13</td>\n",
       "      <td>1905</td>\n",
       "      <td>46</td>\n",
       "      <td>F</td>\n",
       "      <td>B</td>\n",
       "    </tr>\n",
       "    <tr>\n",
       "      <th>3</th>\n",
       "      <td>11/13/17</td>\n",
       "      <td>1930</td>\n",
       "      <td>36</td>\n",
       "      <td>M</td>\n",
       "      <td>B</td>\n",
       "    </tr>\n",
       "    <tr>\n",
       "      <th>4</th>\n",
       "      <td>8/11/17</td>\n",
       "      <td>650</td>\n",
       "      <td>54</td>\n",
       "      <td>M</td>\n",
       "      <td>B</td>\n",
       "    </tr>\n",
       "    <tr>\n",
       "      <th>5</th>\n",
       "      <td>7/3/18</td>\n",
       "      <td>2105</td>\n",
       "      <td>56</td>\n",
       "      <td>M</td>\n",
       "      <td>H</td>\n",
       "    </tr>\n",
       "    <tr>\n",
       "      <th>6</th>\n",
       "      <td>1/23/19</td>\n",
       "      <td>1420</td>\n",
       "      <td></td>\n",
       "      <td>M</td>\n",
       "      <td>B</td>\n",
       "    </tr>\n",
       "  </tbody>\n",
       "</table>\n",
       "</div>"
      ],
      "text/plain": [
       "  Date Occurred Time Occurred Victim Age Victim Sex Victim Descent\n",
       "0        3/8/20          1720                     M              B\n",
       "1       2/26/22          1910         42          M              H\n",
       "2      12/22/13          1905         46          F              B\n",
       "3      11/13/17          1930         36          M              B\n",
       "4       8/11/17           650         54          M              B\n",
       "5        7/3/18          2105         56          M              H\n",
       "6       1/23/19          1420                     M              B"
      ]
     },
     "execution_count": 17,
     "metadata": {},
     "output_type": "execute_result"
    }
   ],
   "source": [
    "# show a dataframe with a subset of columns\n",
    "# this means, within pedcol, keep these 5 columns\n",
    "pedcol[['Date Occurred','Time Occurred','Victim Age','Victim Sex','Victim Descent']]"
   ]
  },
  {
   "cell_type": "code",
   "execution_count": 18,
   "id": "fd1cb522-68e5-4882-8073-3be6d59cd86d",
   "metadata": {},
   "outputs": [
    {
     "data": {
      "text/html": [
       "<div>\n",
       "<style scoped>\n",
       "    .dataframe tbody tr th:only-of-type {\n",
       "        vertical-align: middle;\n",
       "    }\n",
       "\n",
       "    .dataframe tbody tr th {\n",
       "        vertical-align: top;\n",
       "    }\n",
       "\n",
       "    .dataframe thead th {\n",
       "        text-align: right;\n",
       "    }\n",
       "</style>\n",
       "<table border=\"1\" class=\"dataframe\">\n",
       "  <thead>\n",
       "    <tr style=\"text-align: right;\">\n",
       "      <th></th>\n",
       "      <th>Date Occurred</th>\n",
       "      <th>Time Occurred</th>\n",
       "      <th>Victim Age</th>\n",
       "      <th>Victim Sex</th>\n",
       "      <th>Victim Descent</th>\n",
       "    </tr>\n",
       "  </thead>\n",
       "  <tbody>\n",
       "    <tr>\n",
       "      <th>3</th>\n",
       "      <td>11/13/17</td>\n",
       "      <td>1930</td>\n",
       "      <td>36</td>\n",
       "      <td>M</td>\n",
       "      <td>B</td>\n",
       "    </tr>\n",
       "    <tr>\n",
       "      <th>6</th>\n",
       "      <td>1/23/19</td>\n",
       "      <td>1420</td>\n",
       "      <td></td>\n",
       "      <td>M</td>\n",
       "      <td>B</td>\n",
       "    </tr>\n",
       "    <tr>\n",
       "      <th>0</th>\n",
       "      <td>3/8/20</td>\n",
       "      <td>1720</td>\n",
       "      <td></td>\n",
       "      <td>M</td>\n",
       "      <td>B</td>\n",
       "    </tr>\n",
       "    <tr>\n",
       "      <th>4</th>\n",
       "      <td>8/11/17</td>\n",
       "      <td>650</td>\n",
       "      <td>54</td>\n",
       "      <td>M</td>\n",
       "      <td>B</td>\n",
       "    </tr>\n",
       "    <tr>\n",
       "      <th>1</th>\n",
       "      <td>2/26/22</td>\n",
       "      <td>1910</td>\n",
       "      <td>42</td>\n",
       "      <td>M</td>\n",
       "      <td>H</td>\n",
       "    </tr>\n",
       "  </tbody>\n",
       "</table>\n",
       "</div>"
      ],
      "text/plain": [
       "  Date Occurred Time Occurred Victim Age Victim Sex Victim Descent\n",
       "3      11/13/17          1930         36          M              B\n",
       "6       1/23/19          1420                     M              B\n",
       "0        3/8/20          1720                     M              B\n",
       "4       8/11/17           650         54          M              B\n",
       "1       2/26/22          1910         42          M              H"
      ]
     },
     "execution_count": 18,
     "metadata": {},
     "output_type": "execute_result"
    }
   ],
   "source": [
    "# List of desired column names\n",
    "desired_columns = ['Date Occurred','Time Occurred','Victim Age','Victim Sex','Victim Descent']\n",
    "# Subset based on desired columns\n",
    "pedcol[desired_columns].sample(5)"
   ]
  },
  {
   "cell_type": "code",
   "execution_count": 19,
   "id": "a40f67cb-383e-4e10-99bf-428cb552be0d",
   "metadata": {},
   "outputs": [
    {
     "data": {
      "text/plain": [
       "['Date Occurred',\n",
       " 'Time Occurred',\n",
       " 'Victim Age',\n",
       " 'Victim Sex',\n",
       " 'Victim Descent']"
      ]
     },
     "execution_count": 19,
     "metadata": {},
     "output_type": "execute_result"
    }
   ],
   "source": [
    "# Show desired_columns\n",
    "desired_columns"
   ]
  },
  {
   "cell_type": "code",
   "execution_count": 20,
   "id": "2aed8993-75ff-464d-95a1-c0a857350c1b",
   "metadata": {},
   "outputs": [
    {
     "data": {
      "text/html": [
       "<div>\n",
       "<style scoped>\n",
       "    .dataframe tbody tr th:only-of-type {\n",
       "        vertical-align: middle;\n",
       "    }\n",
       "\n",
       "    .dataframe tbody tr th {\n",
       "        vertical-align: top;\n",
       "    }\n",
       "\n",
       "    .dataframe thead th {\n",
       "        text-align: right;\n",
       "    }\n",
       "</style>\n",
       "<table border=\"1\" class=\"dataframe\">\n",
       "  <thead>\n",
       "    <tr style=\"text-align: right;\">\n",
       "      <th></th>\n",
       "      <th>Date Occurred</th>\n",
       "      <th>Time Occurred</th>\n",
       "      <th>Victim Age</th>\n",
       "      <th>Victim Sex</th>\n",
       "      <th>Victim Descent</th>\n",
       "    </tr>\n",
       "  </thead>\n",
       "  <tbody>\n",
       "    <tr>\n",
       "      <th>0</th>\n",
       "      <td>3/8/20</td>\n",
       "      <td>1720</td>\n",
       "      <td></td>\n",
       "      <td>M</td>\n",
       "      <td>B</td>\n",
       "    </tr>\n",
       "    <tr>\n",
       "      <th>1</th>\n",
       "      <td>2/26/22</td>\n",
       "      <td>1910</td>\n",
       "      <td>42</td>\n",
       "      <td>M</td>\n",
       "      <td>H</td>\n",
       "    </tr>\n",
       "    <tr>\n",
       "      <th>2</th>\n",
       "      <td>12/22/13</td>\n",
       "      <td>1905</td>\n",
       "      <td>46</td>\n",
       "      <td>F</td>\n",
       "      <td>B</td>\n",
       "    </tr>\n",
       "    <tr>\n",
       "      <th>3</th>\n",
       "      <td>11/13/17</td>\n",
       "      <td>1930</td>\n",
       "      <td>36</td>\n",
       "      <td>M</td>\n",
       "      <td>B</td>\n",
       "    </tr>\n",
       "    <tr>\n",
       "      <th>4</th>\n",
       "      <td>8/11/17</td>\n",
       "      <td>650</td>\n",
       "      <td>54</td>\n",
       "      <td>M</td>\n",
       "      <td>B</td>\n",
       "    </tr>\n",
       "    <tr>\n",
       "      <th>5</th>\n",
       "      <td>7/3/18</td>\n",
       "      <td>2105</td>\n",
       "      <td>56</td>\n",
       "      <td>M</td>\n",
       "      <td>H</td>\n",
       "    </tr>\n",
       "    <tr>\n",
       "      <th>6</th>\n",
       "      <td>1/23/19</td>\n",
       "      <td>1420</td>\n",
       "      <td></td>\n",
       "      <td>M</td>\n",
       "      <td>B</td>\n",
       "    </tr>\n",
       "  </tbody>\n",
       "</table>\n",
       "</div>"
      ],
      "text/plain": [
       "  Date Occurred Time Occurred Victim Age Victim Sex Victim Descent\n",
       "0        3/8/20          1720                     M              B\n",
       "1       2/26/22          1910         42          M              H\n",
       "2      12/22/13          1905         46          F              B\n",
       "3      11/13/17          1930         36          M              B\n",
       "4       8/11/17           650         54          M              B\n",
       "5        7/3/18          2105         56          M              H\n",
       "6       1/23/19          1420                     M              B"
      ]
     },
     "execution_count": 20,
     "metadata": {},
     "output_type": "execute_result"
    }
   ],
   "source": [
    "pedcol_trimmed = pedcol[desired_columns].copy() \n",
    "pedcol_trimmed\n",
    "#.copy creates a copy. you can also do a copy by re running\n",
    "# the python cells\n",
    "#create a permanent variable where we trim the data and make a \n",
    "#copy of it"
   ]
  },
  {
   "cell_type": "code",
   "execution_count": 21,
   "id": "12ff7a42-940e-46bc-84fe-184c26937818",
   "metadata": {},
   "outputs": [
    {
     "data": {
      "text/html": [
       "<div>\n",
       "<style scoped>\n",
       "    .dataframe tbody tr th:only-of-type {\n",
       "        vertical-align: middle;\n",
       "    }\n",
       "\n",
       "    .dataframe tbody tr th {\n",
       "        vertical-align: top;\n",
       "    }\n",
       "\n",
       "    .dataframe thead th {\n",
       "        text-align: right;\n",
       "    }\n",
       "</style>\n",
       "<table border=\"1\" class=\"dataframe\">\n",
       "  <thead>\n",
       "    <tr style=\"text-align: right;\">\n",
       "      <th></th>\n",
       "      <th>Date Occurred</th>\n",
       "      <th>Time Occurred</th>\n",
       "      <th>Victim Age</th>\n",
       "      <th>Victim Sex</th>\n",
       "      <th>Victim Descent</th>\n",
       "    </tr>\n",
       "  </thead>\n",
       "  <tbody>\n",
       "    <tr>\n",
       "      <th>0</th>\n",
       "      <td>3/8/20</td>\n",
       "      <td>1720</td>\n",
       "      <td></td>\n",
       "      <td>M</td>\n",
       "      <td>B</td>\n",
       "    </tr>\n",
       "    <tr>\n",
       "      <th>1</th>\n",
       "      <td>2/26/22</td>\n",
       "      <td>1910</td>\n",
       "      <td>42</td>\n",
       "      <td>M</td>\n",
       "      <td>H</td>\n",
       "    </tr>\n",
       "    <tr>\n",
       "      <th>2</th>\n",
       "      <td>12/22/13</td>\n",
       "      <td>1905</td>\n",
       "      <td>46</td>\n",
       "      <td>F</td>\n",
       "      <td>B</td>\n",
       "    </tr>\n",
       "    <tr>\n",
       "      <th>3</th>\n",
       "      <td>11/13/17</td>\n",
       "      <td>1930</td>\n",
       "      <td>36</td>\n",
       "      <td>M</td>\n",
       "      <td>B</td>\n",
       "    </tr>\n",
       "    <tr>\n",
       "      <th>4</th>\n",
       "      <td>8/11/17</td>\n",
       "      <td>650</td>\n",
       "      <td>54</td>\n",
       "      <td>M</td>\n",
       "      <td>B</td>\n",
       "    </tr>\n",
       "    <tr>\n",
       "      <th>5</th>\n",
       "      <td>7/3/18</td>\n",
       "      <td>2105</td>\n",
       "      <td>56</td>\n",
       "      <td>M</td>\n",
       "      <td>H</td>\n",
       "    </tr>\n",
       "    <tr>\n",
       "      <th>6</th>\n",
       "      <td>1/23/19</td>\n",
       "      <td>1420</td>\n",
       "      <td></td>\n",
       "      <td>M</td>\n",
       "      <td>B</td>\n",
       "    </tr>\n",
       "  </tbody>\n",
       "</table>\n",
       "</div>"
      ],
      "text/plain": [
       "  Date Occurred Time Occurred Victim Age Victim Sex Victim Descent\n",
       "0        3/8/20          1720                     M              B\n",
       "1       2/26/22          1910         42          M              H\n",
       "2      12/22/13          1905         46          F              B\n",
       "3      11/13/17          1930         36          M              B\n",
       "4       8/11/17           650         54          M              B\n",
       "5        7/3/18          2105         56          M              H\n",
       "6       1/23/19          1420                     M              B"
      ]
     },
     "execution_count": 21,
     "metadata": {},
     "output_type": "execute_result"
    }
   ],
   "source": [
    "# Show pedcol_trimmed\n",
    "pedcol_trimmed"
   ]
  },
  {
   "cell_type": "code",
   "execution_count": 22,
   "id": "2fdc4fb6-27db-4029-8685-14acb2e01e0f",
   "metadata": {},
   "outputs": [
    {
     "data": {
      "text/plain": [
       "Date Occurred  Time Occurred  Victim Age  Victim Sex  Victim Descent\n",
       "1/23/19        1420                       M           B                 1\n",
       "11/13/17       1930           36          M           B                 1\n",
       "12/22/13       1905           46          F           B                 1\n",
       "2/26/22        1910           42          M           H                 1\n",
       "3/8/20         1720                       M           B                 1\n",
       "7/3/18         2105           56          M           H                 1\n",
       "8/11/17        650            54          M           B                 1\n",
       "Name: count, dtype: int64"
      ]
     },
     "execution_count": 22,
     "metadata": {},
     "output_type": "execute_result"
    }
   ],
   "source": [
    "# Seeing the values count in the newly trimmed pedcol data\n",
    "pedcol_trimmed.value_counts()"
   ]
  },
  {
   "cell_type": "code",
   "execution_count": 23,
   "id": "77d45225-b491-4a4f-812f-cc4abcd2f476",
   "metadata": {},
   "outputs": [
    {
     "data": {
      "text/plain": [
       "Victim Descent\n",
       "B    5\n",
       "H    2\n",
       "Name: count, dtype: int64"
      ]
     },
     "execution_count": 23,
     "metadata": {},
     "output_type": "execute_result"
    }
   ],
   "source": [
    "# Getting a count for Victim Descent in the data. \n",
    "# Shows 5 B (Black) and 2 H (Hispanic)\n",
    "pedcol_trimmed['Victim Descent'].value_counts()"
   ]
  },
  {
   "cell_type": "code",
   "execution_count": 24,
   "id": "07ec2844-3167-475d-9a28-8ef619b0ed2d",
   "metadata": {},
   "outputs": [],
   "source": [
    "# save it as a variable\n",
    "# this saves it permenantley\n",
    "# Victim Descent = VicDes_count\n",
    "VicDes_count = pedcol_trimmed['Victim Descent'].value_counts()"
   ]
  },
  {
   "cell_type": "code",
   "execution_count": 25,
   "id": "ca65262e-9441-4acb-b427-382038251ea4",
   "metadata": {},
   "outputs": [
    {
     "data": {
      "text/plain": [
       "Victim Descent\n",
       "B    5\n",
       "H    2\n",
       "Name: count, dtype: int64"
      ]
     },
     "execution_count": 25,
     "metadata": {},
     "output_type": "execute_result"
    }
   ],
   "source": [
    "# Now i'm going to see if VicDes_count is a series, and if it is, I'm going to convert it to dataframe\n",
    "# a dataframe can have multiple columns, while a series can only have one column\n",
    "# what data type is VicDes_count?\n",
    "VicDes_count"
   ]
  },
  {
   "cell_type": "code",
   "execution_count": 26,
   "id": "cfdb4f2d-cb16-4f25-bfd2-413a1c4bf836",
   "metadata": {},
   "outputs": [
    {
     "data": {
      "text/plain": [
       "pandas.core.series.Series"
      ]
     },
     "execution_count": 26,
     "metadata": {},
     "output_type": "execute_result"
    }
   ],
   "source": [
    "# Shows what type of data it is\n",
    "type(VicDes_count)"
   ]
  },
  {
   "cell_type": "code",
   "execution_count": 27,
   "id": "af88231d-d778-4c87-8fa0-0f5c997f8abd",
   "metadata": {},
   "outputs": [
    {
     "data": {
      "text/html": [
       "<div>\n",
       "<style scoped>\n",
       "    .dataframe tbody tr th:only-of-type {\n",
       "        vertical-align: middle;\n",
       "    }\n",
       "\n",
       "    .dataframe tbody tr th {\n",
       "        vertical-align: top;\n",
       "    }\n",
       "\n",
       "    .dataframe thead th {\n",
       "        text-align: right;\n",
       "    }\n",
       "</style>\n",
       "<table border=\"1\" class=\"dataframe\">\n",
       "  <thead>\n",
       "    <tr style=\"text-align: right;\">\n",
       "      <th></th>\n",
       "      <th>Victim Descent</th>\n",
       "      <th>count</th>\n",
       "    </tr>\n",
       "  </thead>\n",
       "  <tbody>\n",
       "    <tr>\n",
       "      <th>0</th>\n",
       "      <td>B</td>\n",
       "      <td>5</td>\n",
       "    </tr>\n",
       "    <tr>\n",
       "      <th>1</th>\n",
       "      <td>H</td>\n",
       "      <td>2</td>\n",
       "    </tr>\n",
       "  </tbody>\n",
       "</table>\n",
       "</div>"
      ],
      "text/plain": [
       "  Victim Descent  count\n",
       "0              B      5\n",
       "1              H      2"
      ]
     },
     "execution_count": 27,
     "metadata": {},
     "output_type": "execute_result"
    }
   ],
   "source": [
    "# let's convert the series into a dataframe\n",
    "VicDes_count = VicDes_count.reset_index() \n",
    "VicDes_count"
   ]
  },
  {
   "cell_type": "code",
   "execution_count": 28,
   "id": "96a8bc91-1c43-454a-ac79-f3e0bf128f91",
   "metadata": {},
   "outputs": [
    {
     "data": {
      "text/plain": [
       "pandas.core.frame.DataFrame"
      ]
     },
     "execution_count": 28,
     "metadata": {},
     "output_type": "execute_result"
    }
   ],
   "source": [
    "#Testing to see if VicDes_count is now a dataframe...\n",
    "type(VicDes_count) \n",
    "# and it is!"
   ]
  },
  {
   "cell_type": "code",
   "execution_count": 29,
   "id": "37f23bf8-8483-45fb-82fd-a8b9d723c547",
   "metadata": {},
   "outputs": [
    {
     "data": {
      "text/plain": [
       "<Axes: >"
      ]
     },
     "execution_count": 29,
     "metadata": {},
     "output_type": "execute_result"
    },
    {
     "data": {
      "image/png": "[encoded data removed]",
      "text/plain": [
       "<Figure size 640x480 with 1 Axes>"
      ]
     },
     "metadata": {},
     "output_type": "display_data"
    }
   ],
   "source": [
    "#Trying to plot VicDes_count\n",
    "VicDes_count.plot()\n",
    "# I plotted something! But it should probably be a bargraph\n"
   ]
  },
  {
   "cell_type": "code",
   "execution_count": 30,
   "id": "2dc9b7fe-2fb0-4f3a-ade7-91c153d19576",
   "metadata": {},
   "outputs": [
    {
     "data": {
      "text/plain": [
       "<Axes: title={'center': 'Pedestrian Collision by Victim Descent'}, xlabel='Victim Descent'>"
      ]
     },
     "execution_count": 30,
     "metadata": {},
     "output_type": "execute_result"
    },
    {
     "data": {
      "image/png": "[encoded data removed]",
      "text/plain": [
       "<Figure size 640x480 with 1 Axes>"
      ]
     },
     "metadata": {},
     "output_type": "display_data"
    }
   ],
   "source": [
    "# gives it additional arguments\n",
    "VicDes_count.plot.bar(x = 'Victim Descent', y = 'count', title = 'Pedestrian Collision by Victim Descent')"
   ]
  },
  {
   "cell_type": "code",
   "execution_count": null,
   "id": "9adf7206-54a4-4dcf-86e8-c542c8783a2f",
   "metadata": {},
   "outputs": [],
   "source": []
  }
 ],
 "metadata": {
  "kernelspec": {
   "display_name": "Python 3 (ipykernel)",
   "language": "python",
   "name": "python3"
  },
  "language_info": {
   "codemirror_mode": {
    "name": "ipython",
    "version": 3
   },
   "file_extension": ".py",
   "mimetype": "text/x-python",
   "name": "python",
   "nbconvert_exporter": "python",
   "pygments_lexer": "ipython3",
   "version": "3.11.7"
  }
 },
 "nbformat": 4,
 "nbformat_minor": 5
}
